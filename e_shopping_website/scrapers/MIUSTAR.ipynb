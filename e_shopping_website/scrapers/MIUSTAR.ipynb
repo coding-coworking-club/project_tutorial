{
 "cells": [
  {
   "cell_type": "code",
   "execution_count": 1,
   "id": "0fa7af5e",
   "metadata": {},
   "outputs": [],
   "source": [
    "import os\n",
    "import sys\n",
    "import re\n",
    "from selenium import webdriver\n",
    "from time import sleep\n",
    "from bs4 import BeautifulSoup\n",
    "from selenium.webdriver.chrome.options import Options\n",
    "from selenium.webdriver.common.by import By\n",
    "from selenium.webdriver.support.ui import WebDriverWait\n",
    "from selenium.webdriver.support import expected_conditions as EC"
   ]
  },
  {
   "cell_type": "code",
   "execution_count": 2,
   "id": "b681e013",
   "metadata": {},
   "outputs": [
    {
     "name": "stdout",
     "output_type": "stream",
     "text": [
      "MIUSTAR★官方網站-簡約休閒新時尚平價女裝\n",
      "https://www.miu-star.com.tw/\n",
      "first text 商品分類\n",
      "click 商品分類\n",
      "click \n",
      "second text ALL\n",
      "click ALL\n"
     ]
    }
   ],
   "source": [
    "options = Options()\n",
    "options.add_argument(\"--disable-notifications\")  \n",
    "driver = webdriver.Chrome('/home/seraphine/workspace/project_tutorial/e_shopping_website/resource/chromedriver', options=options)\n",
    "option = webdriver.ChromeOptions()\n",
    "home = \"https://www.miu-star.com.tw/\"\n",
    "driver.get(home)\n",
    "print(driver.title)\n",
    "print(driver.current_url)\n",
    "search_input = WebDriverWait(driver, 50).until(\n",
    "    EC.presence_of_element_located((By.TAG_NAME, \"h2\"))\n",
    "    )\n",
    "print(\"first text\", search_input.text)\n",
    "print(f\"click {search_input.text}\")\n",
    "search_input.click()\n",
    "search_input = driver.find_element_by_class_name(\"icon-slim-arrow-down\")\n",
    "print(f\"click {search_input.text}\")\n",
    "search_input.click()\n",
    "search_input = driver.find_element_by_class_name(\"category-level1\")\n",
    "search_input = driver.find_element_by_class_name(\"category-menu-item-link\")\n",
    "print(\"second text\", search_input.text)\n",
    "print(f\"click {search_input.text}\")\n",
    "search_input.click()"
   ]
  },
  {
   "cell_type": "code",
   "execution_count": null,
   "id": "6ea064d4",
   "metadata": {},
   "outputs": [],
   "source": [
    "# scroll down\n",
    "for i in range(1, 20):\n",
    "    driver.execute_script(\"window.scrollTo(0,document.body.scrollHeight)\")\n",
    "    sleep(1)"
   ]
  },
  {
   "cell_type": "code",
   "execution_count": null,
   "id": "b6613c89",
   "metadata": {},
   "outputs": [],
   "source": [
    "#把本頁搜尋商品的網址截下來\n",
    "soup = BeautifulSoup(driver.page_source,\"html.parser\")\n",
    "item_list = soup.find_all(\"li\",{\"class\":\"column-grid-container__column\"})\n",
    "\n",
    "item_list_path = [] \n",
    "for item in item_list:\n",
    "    item_list_path.append(item.a[\"href\"])"
   ]
  },
  {
   "cell_type": "code",
   "execution_count": null,
   "id": "6193a4c5",
   "metadata": {},
   "outputs": [],
   "source": [
    "#新的分頁\n",
    "for path in item_list_path:\n",
    "    url = f\"https://www.miu-star.com.tw{path}\"\n",
    "    driver.get(url)\n",
    "    print(url)\n",
    "    picture = WebDriverWait(driver, 50).until(\n",
    "        EC.presence_of_element_located((By.CLASS_NAME, \"large-image-frame\"))\n",
    "    )    #爬詳細的圖文\n",
    "    soup = BeautifulSoup(driver.page_source,\"html.parser\")\n",
    "    picture = soup.find(\"figure\",{\"class\":\"large-image-frame\"}).img['src']\n",
    "    picture_url = f\"https:{picture}\"\n",
    "    print(picture_url)\n",
    "    \n",
    "    picture_name = soup.find(\"h1\",{\"class\":\"salepage-title\"}).text.strip()\n",
    "    print(picture_name)\n",
    "    try:\n",
    "        picture_name = picture_name.split(\"★\")[2].split(\"(\")[0]\n",
    "        print(picture_name)\n",
    "    except:\n",
    "        picture_name = picture_name.split(\"★\")[1].split(\"(\")[0]\n",
    "        print(picture_name)\n",
    "    \n",
    "    price = soup.find(\"div\",{\"class\":\"salepage-price cms-moneyColor\"}).text.strip()\n",
    "    print(price)\n",
    "    \n",
    "    color_size = soup.find(\"ul\", {\"class\": \"sku-ul\"})\n",
    "    color_size_all = color_size.find_all(\"a\")\n",
    "    color_size_list = [color_size.text for color_size in color_size_all]\n",
    "    print(color_size_list)\n",
    "    chinese = r'[\\u4e00-\\u9fff]+'\n",
    "    color_list = [re.findall(chinese, color_size) for color_size in color_size_list]\n",
    "    color_list = list({color[0] for color in color_list if color})\n",
    "    print(color_list)\n",
    "    number_eng = r\"[a-zA-Z]+\\'*[a-z]*|[0-9.]*[0-9]+[a-zA-Z]+\\'*[a-z]*\"\n",
    "    size_list = [re.findall(number_eng, color_size) for color_size in color_size_list]\n",
    "    size_list = list({size[0] for size in size_list if size})\n",
    "    print(size_list)"
   ]
  },
  {
   "cell_type": "code",
   "execution_count": null,
   "id": "d2654742",
   "metadata": {},
   "outputs": [],
   "source": [
    "driver.quit()"
   ]
  },
  {
   "cell_type": "code",
   "execution_count": 5,
   "id": "a652f8d1",
   "metadata": {},
   "outputs": [
    {
     "name": "stdout",
     "output_type": "stream",
     "text": [
      "https://www.miu-star.com.tw/SalePage/Index/6813784\n",
      "https:https://youtu.be/ZtyPvtRYjCc\n",
      "★8折★原價550下殺$450★MIUSTAR 兩段式公主澎袖後綁結網紗上衣(共2色)0126 預購【NJ0298】\n",
      "原價550下殺$450\n",
      "NT$440\n",
      "['黑F', '杏F']\n",
      "['黑', '杏']\n",
      "[['F'], ['F']]\n",
      "['F']\n"
     ]
    }
   ],
   "source": [
    "url = \"https://www.miu-star.com.tw/SalePage/Index/6813784\"\n",
    "driver.get(url)\n",
    "print(url)\n",
    "\n",
    "picture = WebDriverWait(driver, 50).until(\n",
    "        EC.presence_of_element_located((By.CLASS_NAME, \"large-image-frame\"))\n",
    "    )    #爬詳細的圖文\n",
    "soup = BeautifulSoup(driver.page_source,\"html.parser\")\n",
    "picture = soup.find(\"figure\",{\"class\":\"large-image-frame\"}).img['src']\n",
    "picture_url = f\"https:{picture}\"\n",
    "print(picture_url)\n",
    "\n",
    "picture_name = soup.find(\"h1\",{\"class\":\"salepage-title\"}).text.strip()\n",
    "print(picture_name)\n",
    "try:\n",
    "    picture_name = picture_name.split(\"★\")[2].split(\"(\")[0]\n",
    "    print(picture_name)\n",
    "except:\n",
    "    picture_name = picture_name.split(\"★\")[1].split(\"(\")[0]\n",
    "    print(picture_name)\n",
    "\n",
    "price = soup.find(\"div\",{\"class\":\"salepage-price cms-moneyColor\"}).text.strip()\n",
    "print(price)\n",
    "\n",
    "color_size = soup.find(\"ul\", {\"class\": \"sku-ul\"})\n",
    "color_size_all = color_size.find_all(\"a\")\n",
    "color_size_list = [color_size.text for color_size in color_size_all]\n",
    "print(color_size_list)\n",
    "chinese = r'[\\u4e00-\\u9fff]+'\n",
    "color_list = [re.findall(chinese, color_size) for color_size in color_size_list]\n",
    "color_list = list({color[0] for color in color_list})\n",
    "print(color_list)\n",
    "number_eng = r\"[a-zA-Z]+\\'*[a-z]*|[0-9.]*[0-9]+[a-zA-Z]+\\'*[a-z]*\"\n",
    "size_list = [re.findall(number_eng, color_size) for color_size in color_size_list]\n",
    "print(size_list)\n",
    "size_list = list({size[0] for size in size_list if size})\n",
    "print(size_list)"
   ]
  },
  {
   "cell_type": "code",
   "execution_count": null,
   "id": "7867854d",
   "metadata": {},
   "outputs": [],
   "source": [
    "src=\"https://youtu.be/ZtyPvtRYjCc\""
   ]
  },
  {
   "cell_type": "code",
   "execution_count": null,
   "id": "30d9e7b7",
   "metadata": {},
   "outputs": [],
   "source": [
    "import re\n",
    "ipath= u\"./data/NCDC/上海/虹桥/9705626661750dat.txt\"\n",
    "re.findall(r'[\\u4e00-\\u9fff]+', ipath)\n",
    "# [u'\\u4e0a\\u6d77', u'\\u8679\\u6865']"
   ]
  },
  {
   "cell_type": "code",
   "execution_count": null,
   "id": "fdbb4ed7",
   "metadata": {},
   "outputs": [],
   "source": []
  }
 ],
 "metadata": {
  "kernelspec": {
   "display_name": "Python 3 (ipykernel)",
   "language": "python",
   "name": "python3"
  },
  "language_info": {
   "codemirror_mode": {
    "name": "ipython",
    "version": 3
   },
   "file_extension": ".py",
   "mimetype": "text/x-python",
   "name": "python",
   "nbconvert_exporter": "python",
   "pygments_lexer": "ipython3",
   "version": "3.8.10"
  }
 },
 "nbformat": 4,
 "nbformat_minor": 5
}
